{
 "cells": [
  {
   "cell_type": "code",
   "execution_count": 157,
   "metadata": {},
   "outputs": [],
   "source": [
    "import argparse\n",
    "import pprint\n",
    "import logging\n",
    "from typing import get_args\n",
    "import torch\n",
    "\n",
    "import numpy as np\n",
    "import tqdm as tqdm\n",
    "import ipdb\n",
    "\n",
    "import time\n",
    "import seaborn as sns\n",
    "import matplotlib.pyplot as plt\n",
    "from dance import logger\n",
    "from pathlib import Path\n",
    "import pickle\n",
    "from dance.datasets.singlemodality import CellTypeAnnotationDataset\n",
    "from dance.modules.single_modality.cell_type_annotation.actinn import ACTINN\n",
    "from dance.typing import LogLevel\n",
    "from dance.utils import set_seed"
   ]
  },
  {
   "cell_type": "code",
   "execution_count": 2,
   "metadata": {},
   "outputs": [],
   "source": [
    "logger.setLevel(logging.INFO)\n",
    "# logger.info(f\"Running SVM with the following parameters:\\n{pprint.pformat(vars(args))}\")"
   ]
  },
  {
   "cell_type": "code",
   "execution_count": 3,
   "metadata": {},
   "outputs": [],
   "source": [
    "train_dataset = ['753', '3285']\n",
    "test_dataset = ['2695']\n",
    "species = \"mouse\"\n",
    "tissue = \"Brain\"\n",
    "val_size = 0.0\n",
    "\n",
    "dataloader = CellTypeAnnotationDataset(train_dataset=train_dataset, test_dataset=test_dataset,\n",
    "                                           tissue=tissue, species=species, val_size=val_size)"
   ]
  },
  {
   "cell_type": "code",
   "execution_count": 46,
   "metadata": {},
   "outputs": [],
   "source": [
    "lambd = 0.005\n",
    "model = ACTINN(hidden_dims=[512], lambd=lambd, device=\"cpu\", use_feature_embedding=True)\n",
    "preprocessing_pipeline = model.preprocessing_pipeline(normalize=True, filter_genes=True)"
   ]
  },
  {
   "cell_type": "code",
   "execution_count": 47,
   "metadata": {},
   "outputs": [
    {
     "data": {
      "text/plain": [
       "Compose(\n",
       "  AnnDataTransform(func=scanpy.preprocessing._normalization.normalize_total, func_kwargs={'target_sum': 10000.0}),\n",
       "  AnnDataTransform(func=scanpy.preprocessing._simple.log1p, func_kwargs={'base': 2}),\n",
       "  AnnDataTransform(func=scanpy.preprocessing._simple.filter_genes, func_kwargs={'min_cells': 1}),\n",
       "  FilterGenesPercentile(min_val=1, max_val=99, mode='sum'),\n",
       "  FilterGenesPercentile(min_val=1, max_val=99, mode='cv'),\n",
       "  SetConfig(config_dict={'label_channel': 'cell_type'}),\n",
       ")"
      ]
     },
     "execution_count": 47,
     "metadata": {},
     "output_type": "execute_result"
    }
   ],
   "source": [
    "preprocessing_pipeline"
   ]
  },
  {
   "cell_type": "code",
   "execution_count": 48,
   "metadata": {},
   "outputs": [
    {
     "name": "stderr",
     "output_type": "stream",
     "text": [
      "[INFO][2024-10-20 16:18:18,503][dance][_load_dfs] Loading data from ./train/mouse/mouse_Brain753_data.csv\n"
     ]
    },
    {
     "name": "stderr",
     "output_type": "stream",
     "text": [
      "[INFO][2024-10-20 16:18:19,005][dance][_load_dfs] Loading data from ./train/mouse/mouse_Brain3285_data.csv\n",
      "[INFO][2024-10-20 16:18:21,660][dance][_load_dfs] Loading data from ./test/mouse/mouse_Brain2695_data.csv\n",
      "[INFO][2024-10-20 16:18:24,185][dance][_load_dfs] Loading data from ./train/mouse/mouse_Brain753_celltype.csv\n",
      "[INFO][2024-10-20 16:18:24,190][dance][_load_dfs] Loading data from ./train/mouse/mouse_Brain3285_celltype.csv\n",
      "[INFO][2024-10-20 16:18:24,196][dance][_load_dfs] Loading data from ./test/mouse/mouse_Brain2695_celltype.csv\n",
      "/opt/homebrew/Caskroom/miniconda/base/envs/dance/lib/python3.11/site-packages/anndata/_core/anndata.py:402: FutureWarning: The dtype argument is deprecated and will be removed in late 2024.\n",
      "  warnings.warn(\n",
      "[INFO][2024-10-20 16:18:25,239][dance][_load_raw_data] Loaded expression data: AnnData object with n_obs × n_vars = 6733 × 19856\n",
      "[INFO][2024-10-20 16:18:25,239][dance][_load_raw_data] Number of training samples: 4,038\n",
      "[INFO][2024-10-20 16:18:25,239][dance][_load_raw_data] Number of testing samples: 2,695\n",
      "[INFO][2024-10-20 16:18:25,240][dance][_load_raw_data] Cell-types (n=11):\n",
      "['Astrocyte',\n",
      " 'Astroglial cell',\n",
      " 'Granulocyte',\n",
      " 'Hypothalamic ependymal cell',\n",
      " 'Macrophage',\n",
      " 'Microglia',\n",
      " 'Myelinating oligodendrocyte',\n",
      " 'Neuron',\n",
      " 'Oligodendrocyte precursor cell',\n",
      " 'Pan-GABAergic',\n",
      " 'Schwann cell']\n",
      "[INFO][2024-10-20 16:18:25,327][dance][load_data] Raw data loaded:\n",
      "Data object that wraps (.data):\n",
      "AnnData object with n_obs × n_vars = 6733 × 19856\n",
      "    uns: 'dance_config'\n",
      "    obsm: 'cell_type'\n",
      "[INFO][2024-10-20 16:18:25,329][dance.Compose][__call__] Applying composed transformations:\n",
      "Compose(\n",
      "  AnnDataTransform(func=scanpy.preprocessing._normalization.normalize_total, func_kwargs={'target_sum': 10000.0}),\n",
      "  AnnDataTransform(func=scanpy.preprocessing._simple.log1p, func_kwargs={'base': 2}),\n",
      "  AnnDataTransform(func=scanpy.preprocessing._simple.filter_genes, func_kwargs={'min_cells': 1}),\n",
      "  FilterGenesPercentile(min_val=1, max_val=99, mode='sum'),\n",
      "  FilterGenesPercentile(min_val=1, max_val=99, mode='cv'),\n",
      "  SetConfig(config_dict={'label_channel': 'cell_type'}),\n",
      ")\n",
      "[WARNING][2024-10-20 16:18:26,343][dance.FilterGenesPercentile][__call__] n_counts will be added to the var of data\n",
      "[WARNING][2024-10-20 16:18:26,375][dance.FilterGenesPercentile][__call__] n_cells will be added to the var of data\n",
      "[INFO][2024-10-20 16:18:26,522][dance.FilterGenesPercentile][__call__] Filtering genes based on sum expression percentiles in layer None\n",
      "[INFO][2024-10-20 16:18:26,528][dance.FilterGenesPercentile][__call__] 379 genes removed\n",
      "[WARNING][2024-10-20 16:18:27,352][dance.FilterGenesPercentile][__call__] n_counts will be added to the var of data\n",
      "[WARNING][2024-10-20 16:18:27,379][dance.FilterGenesPercentile][__call__] n_cells will be added to the var of data\n",
      "[INFO][2024-10-20 16:18:27,593][dance.FilterGenesPercentile][__call__] Filtering genes based on cv expression percentiles in layer None\n",
      "[INFO][2024-10-20 16:18:27,595][dance.FilterGenesPercentile][__call__] 368 genes removed\n",
      "[INFO][2024-10-20 16:18:28,339][dance.SetConfig][__call__] Updating the dance data object config options:\n",
      "{'label_channel': 'cell_type'}\n",
      "[INFO][2024-10-20 16:18:28,341][dance][set_config_from_dict] Setting config 'label_channel' to 'cell_type'\n",
      "[INFO][2024-10-20 16:18:28,342][dance][load_data] Data transformed:\n",
      "Data object that wraps (.data):\n",
      "AnnData object with n_obs × n_vars = 6733 × 18162\n",
      "    var: 'n_cells', 'n_counts'\n",
      "    uns: 'dance_config', 'log1p'\n",
      "    obsm: 'cell_type'\n",
      "[INFO][2024-10-20 16:18:28,342][dance][wrapped_func] Took 0:00:09.845662 to load and process data.\n"
     ]
    }
   ],
   "source": [
    "data = dataloader.load_data(transform=preprocessing_pipeline, cache=False)"
   ]
  },
  {
   "cell_type": "code",
   "execution_count": 49,
   "metadata": {},
   "outputs": [],
   "source": [
    "gene_names = data.data.var.index.tolist()"
   ]
  },
  {
   "cell_type": "code",
   "execution_count": 89,
   "metadata": {},
   "outputs": [],
   "source": [
    "import requests\n",
    "import xml.etree.ElementTree as ET \n"
   ]
  },
  {
   "cell_type": "code",
   "execution_count": 155,
   "metadata": {},
   "outputs": [],
   "source": [
    "def get_gene_info(gene_name, verbose=False):\n",
    "    if verbose:\n",
    "        print(f\"Getting gene info for {gene_name}\")\n",
    "    url = f\"https://eutils.ncbi.nlm.nih.gov/entrez/eutils/esearch.fcgi?db=nucleotide&term={gene_name}\"\n",
    "    # # url = f\"https://eutils.ncbi.nlm.nih.gov/entrez/eutils/esearch.fcgi?db=nucleotide&term={gene_name}\"\n",
    "    # url = f\"https://eutils.ncbi.nlm.nih.gov/entrez/eutils/efetch.fcgi?db=nucleotide&term={gene_name}\"\n",
    "    response = requests.get(url)\n",
    "    if not response.status_code == 200:\n",
    "        if verbose:\n",
    "            print(f\"Failed to get gene info for {gene_name}\")\n",
    "        return None\n",
    "    \n",
    "    root = ET.fromstring(response.content)\n",
    "    id_tags = root.find('IdList').findall('Id')\n",
    "    ids = [id_tag.text for id_tag in id_tags]\n",
    "    if len(ids) == 0:\n",
    "        if verbose:\n",
    "            print(f\"No gene info found for {gene_name}\")\n",
    "        return None\n",
    "    \n",
    "    info_url = \"https://eutils.ncbi.nlm.nih.gov/entrez/eutils/esummary.fcgi?db=nucleotide&id={}&version=2.0\"\n",
    "    chosen_id = None\n",
    "    for identifier in ids:\n",
    "        response = requests.get(info_url.format(identifier))\n",
    "        if not response.status_code == 200:\n",
    "            if verbose:\n",
    "                print(f\"Failed to get gene info for {gene_name}\")\n",
    "            return None\n",
    "        \n",
    "        root = ET.fromstring(response.content)\n",
    "        sequence_length = root.find('DocumentSummarySet').find('DocumentSummary').find('Slen') # find('Slen'))\n",
    "        if sequence_length is None:\n",
    "            continue\n",
    "        \n",
    "        sequence_length = int(sequence_length.text)\n",
    "        if sequence_length <= 4096:\n",
    "            chosen_id = identifier\n",
    "            break\n",
    "        \n",
    "\n",
    "    if chosen_id is None:\n",
    "        if verbose:\n",
    "            print(f\"No gene info found for {gene_name}\")\n",
    "        return None\n",
    "    \n",
    "    fasta_url = f\"https://eutils.ncbi.nlm.nih.gov/entrez/eutils/efetch.fcgi?db=nucleotide&id={chosen_id}&rettype=fasta&retmode=text\"\n",
    "    response = requests.get(fasta_url)\n",
    "    if not response.status_code == 200:\n",
    "        if verbose:\n",
    "            print(f\"Failed to get gene info for {gene_name}\")\n",
    "        return None\n",
    "    \n",
    "    # Drop first line\n",
    "    response = response.text.split(\"\\n\")[1:]\n",
    "    rna = \"\".join(response).replace(\"\\n\", \"\")\n",
    "\n",
    "    # Assert it's RNA i.e. all characters are in ['A', 'C', 'G', 'T', 'U']\n",
    "    if not all([char in ['A', 'C', 'G', 'T', 'U'] for char in rna]):\n",
    "        if verbose:\n",
    "            print(f\"Failed to get gene info for {gene_name}\")\n",
    "        return None\n",
    "        \n",
    "    return rna"
   ]
  },
  {
   "cell_type": "code",
   "execution_count": 148,
   "metadata": {},
   "outputs": [
    {
     "name": "stdout",
     "output_type": "stream",
     "text": [
      "Getting gene info for 0610009B22Rik\n",
      "ATTTTGCTTTCTGGCATTCTTGTAGTTAAAAGCTCCGCCTCACTTGGCAGTCTGGTCCACATCTCCCGCCAGGCTTCCGGTCTCTACACCTCCAGGCGAACGTCAGTGACAACATAAGCAAGTACGCGTGCGGTGAAGGCAAGGATTGCTCTAAGAGCCAGAGGAGGCCCGCGGGGACCCCGACGTCCCATGAGGCCTTGACCCAAGATGGCGGACAAAACCCTTAGCGCAGCCTTGCTCAGAGACGCATGTGCGCATGCCCGGTCGACTGAGCTGCCCTGATCCAAGATGGCGGCCGGACCGGGGCTGGGGACGGGCTTAGCGCGTTACTGAGCATGCTCAGTCTTCCGTCACTTGCGTCAGGTCGGCAGCCGGCGCAGGCCGCTCAGTCCTTCCCGGAGAGGCGGGAACATGAGCCACATATAGACAGAAGACAATGTCTGGGAGCTTCTACTTCGTAATTGTTGGCCACCATGATAATCCGGTTTTTGAAATGGAATTTTTGCCAGCTGGGAAAGCAGAATCTAAAGATGAACACCGTCATCTGAACCAGTTCATAGCTCATGCTGCTCTGGACCTCGTCGACGAAAACATGTGGCTCTCCAACAACATGTACTTAAAAACTGTGGACAAATTCAATGAGTGGTTCGTCTCGGCGTTCGTCACGGCTGGGCACATGCGGCTCATCATGCTGCATGACGTGAGGCACGAGGATGGCATCAAGAACTTCTTCACTGACGTCTACGACTTATACATCAAATTTGCCATGAATCCCTTTTATGAACCCAATTCTCCTATTCGATCGAGTGCATTCGAAAGAAAAGTTCAGTTTCTTGGGAAGAAACATCTTTTAAACTAAATGCAGAAAAACTTCAGAATCACAGTGGGGTGTGCTCAGCAGTGGATGTATTGTAAATTACTTGATAAAGTAGCCTAGCAAACTCTTTATGTCTCAGCTTACCTGTATATCATGAAATTTCTCTTCTATTTAAAAATCTCATCTTTTCATGTTATCACTACTAGTAGTTACCTGTGAACAATTATCACTAATTTAATATTTTATTTCAAAATCAATAAGCCTATAACTTTTTGATTAAGAGAATTAAAAAATCTTAGATTCCTTTTA\n"
     ]
    }
   ],
   "source": [
    "out = get_gene_info(gene_names[1], verbose=True)\n",
    "print(out)"
   ]
  },
  {
   "cell_type": "code",
   "execution_count": 160,
   "metadata": {},
   "outputs": [
    {
     "name": "stdout",
     "output_type": "stream",
     "text": [
      "Loaded gene map file with 265 entries\n"
     ]
    }
   ],
   "source": [
    "# gene_to_rna = {}\n",
    "# missed_count = 0\n",
    "\n",
    "gene_map_path = Path(\"/Users/burgerm/projects/petagraph/dance/examples/single_modality/cell_type_annotation\")\n",
    "gene_map_file = gene_map_path / \"gene_to_rna.pkl\"\n",
    "\n",
    "if gene_map_file.exists():\n",
    "    with open(gene_map_file, \"rb\") as f:\n",
    "        gene_to_rna = pickle.load(f)\n",
    "    print(f\"Loaded gene map file with {len(gene_to_rna)} entries\")\n",
    "else:\n",
    "    print(\"No gene map file found\")\n",
    "\n"
   ]
  },
  {
   "cell_type": "code",
   "execution_count": 154,
   "metadata": {},
   "outputs": [
    {
     "name": "stderr",
     "output_type": "stream",
     "text": [
      "  6%|▌         | 1071/18162 [38:34<54:55:43, 11.57s/it]"
     ]
    }
   ],
   "source": [
    "for gene_name in tqdm.tqdm(gene_names):\n",
    "\n",
    "    if gene_name in gene_to_rna:\n",
    "        continue\n",
    "\n",
    "    rna = get_gene_info(gene_name)\n",
    "    if rna is not None:\n",
    "        gene_to_rna[gene_name] = rna\n",
    "    else:\n",
    "        missed_count += 1\n",
    "    \n",
    "    time.sleep(0.5)\n",
    "\n",
    "print(f\"Missed {missed_count} genes\")\n",
    "print(f\"Got {len(gene_to_rna)} genes\")\n",
    "print(f\"Total {len(gene_names)} genes\")"
   ]
  },
  {
   "cell_type": "code",
   "execution_count": 159,
   "metadata": {},
   "outputs": [],
   "source": [
    "# Save gene_to_rna\n",
    "with open(gene_map_file, 'wb') as f:\n",
    "    pickle.dump(gene_to_rna, f)"
   ]
  },
  {
   "cell_type": "code",
   "execution_count": 53,
   "metadata": {},
   "outputs": [],
   "source": [
    "x_train, y_train = data.get_train_data(return_type=\"torch\")\n",
    "x_test, y_test = data.get_test_data(return_type=\"torch\")\n",
    "\n",
    "x_all = torch.cat([x_train, x_test], dim=0)\n",
    "y_all = torch.cat([y_train, y_test], dim=0)"
   ]
  },
  {
   "cell_type": "code",
   "execution_count": 54,
   "metadata": {},
   "outputs": [
    {
     "data": {
      "text/plain": [
       "tensor(20.7030)"
      ]
     },
     "execution_count": 54,
     "metadata": {},
     "output_type": "execute_result"
    }
   ],
   "source": [
    "x_all[:, 0].sum()"
   ]
  },
  {
   "cell_type": "code",
   "execution_count": 55,
   "metadata": {},
   "outputs": [
    {
     "data": {
      "text/plain": [
       "tensor(6.7391)"
      ]
     },
     "execution_count": 55,
     "metadata": {},
     "output_type": "execute_result"
    }
   ],
   "source": [
    "x_all.max()"
   ]
  },
  {
   "cell_type": "code",
   "execution_count": 62,
   "metadata": {},
   "outputs": [
    {
     "data": {
      "text/plain": [
       "<Axes: ylabel='Count'>"
      ]
     },
     "execution_count": 62,
     "metadata": {},
     "output_type": "execute_result"
    },
    {
     "data": {
      "image/png": "[encoded data removed]",
      "text/plain": [
       "<Figure size 640x480 with 1 Axes>"
      ]
     },
     "metadata": {},
     "output_type": "display_data"
    }
   ],
   "source": [
    "data = x_all[:, 3].numpy()\n",
    "sns.histplot(data[data > 0], bins=100)"
   ]
  },
  {
   "cell_type": "code",
   "execution_count": null,
   "metadata": {},
   "outputs": [],
   "source": []
  }
 ],
 "metadata": {
  "kernelspec": {
   "display_name": "dance",
   "language": "python",
   "name": "python3"
  },
  "language_info": {
   "codemirror_mode": {
    "name": "ipython",
    "version": 3
   },
   "file_extension": ".py",
   "mimetype": "text/x-python",
   "name": "python",
   "nbconvert_exporter": "python",
   "pygments_lexer": "ipython3",
   "version": "3.11.10"
  }
 },
 "nbformat": 4,
 "nbformat_minor": 2
}
